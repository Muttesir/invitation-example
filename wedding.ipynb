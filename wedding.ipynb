{
 "cells": [
  {
   "cell_type": "code",
   "execution_count": 20,
   "metadata": {},
   "outputs": [
    {
     "name": "stdout",
     "output_type": "stream",
     "text": [
      "\u001b[1m\u001b[3m\u001b[94m\u001b[43m\n",
      "  WE INVITE YOU TO SHARIN OUR JOY AND REQUEST YOUR PRESENCE AT THE WEDDING  \n",
      "\u001b[0m \u001b[1m\u001b[3m\u001b[91m\u001b[43m\n",
      "                           SAVE the DATE                                    \n",
      "\u001b[0m \u001b[1m\u001b[3m\u001b[94m\u001b[43m                            22/05/22                                       \n",
      "\u001b[0m \u001b[1m\u001b[3m\u001b[94m\u001b[43m\n",
      "                            NAGIHAN                                         \n",
      "\u001b[0m \u001b[1m\u001b[3m\u001b[91m\u001b[43m                             and                                           \n",
      "\u001b[0m \u001b[1m\u001b[3m\u001b[94m\u001b[43m                           MUTTESIR                                        \n",
      "\u001b[0m \u001b[1m\u001b[3m\u001b[91m\u001b[43m\n",
      "                           Berkshire                                        \n",
      "\u001b[0m \u001b[1m\u001b[3m\u001b[94m\u001b[43m                    22nd May, 2022 At 04:00 PM                             \u001b[0m\n"
     ]
    }
   ],
   "source": [
    "class weddingInvitation:\n",
    "    invitations_quote=''\n",
    "    date=''\n",
    "    bride_name=''\n",
    "    groom_name=''\n",
    "    adress=''\n",
    "    time=''\n",
    "    def __init__(self, invitations_quote, date, bride_name,groom_name,adress,time):\n",
    "        self.invitations_quote = invitations_quote\n",
    "        self.date = date\n",
    "        self.bride_name = bride_name\n",
    "        self.groom_name = groom_name\n",
    "        self.adress = adress\n",
    "        self.time = time\n",
    "    def print_details(self):\n",
    "        \n",
    "        print( self.invitations_quote,\n",
    "              fontstyle.apply('\\n                           SAVE the DATE                                    \\n','bold/Italic/red/YELLOW_BG'),\n",
    "              self.date,           \n",
    "              self.bride_name,\n",
    "              fontstyle.apply('                             and                                           \\n', 'bold/Italic/red/YELLOW_BG'), \n",
    "              self.groom_name,self.adress, self.time )\n",
    "\n",
    "card=weddingInvitation(fontstyle.apply('\\n  WE INVITE YOU TO SHARIN OUR JOY AND REQUEST YOUR PRESENCE AT THE WEDDING  \\n','bold/Italic/blue/YELLOW_BG'),                      \n",
    "                      fontstyle.apply( '                            22/05/22                                       \\n', 'bold/Italic/blue/YELLOW_BG'),\n",
    "                      fontstyle.apply( '\\n                            NAGIHAN                                         \\n','bold/Italic/blue/YELLOW_BG'),\n",
    "                      fontstyle.apply( '                           MUTTESIR                                        \\n','bold/Italic/blue/YELLOW_BG'),\n",
    "                      fontstyle.apply( '\\n                           Berkshire                                        \\n','bold/Italic/red/YELLOW_BG'),\n",
    "                      fontstyle.apply( '                    22nd May, 2022 At 04:00 PM                             ',  'bold/Italic/blue/YELLOW_BG')) \n",
    "card.print_details()"
   ]
  },
  {
   "cell_type": "code",
   "execution_count": 2,
   "metadata": {},
   "outputs": [],
   "source": [
    "import fontstyle"
   ]
  },
  {
   "cell_type": "code",
   "execution_count": null,
   "metadata": {},
   "outputs": [],
   "source": []
  }
 ],
 "metadata": {
  "kernelspec": {
   "display_name": "Python 3 (ipykernel)",
   "language": "python",
   "name": "python3"
  },
  "language_info": {
   "codemirror_mode": {
    "name": "ipython",
    "version": 3
   },
   "file_extension": ".py",
   "mimetype": "text/x-python",
   "name": "python",
   "nbconvert_exporter": "python",
   "pygments_lexer": "ipython3",
   "version": "3.9.7"
  }
 },
 "nbformat": 4,
 "nbformat_minor": 4
}
